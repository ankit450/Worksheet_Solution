{
 "cells": [
  {
   "cell_type": "markdown",
   "metadata": {},
   "source": [
    "## WORKSHEET-1:- PYTHON\n",
    "1. Which of the following operators is used to calculate remainder in a division?\n",
    "Ans :- C) %\n",
    "\n",
    "2. In python 2//3 is equal to?\n",
    "Ans :- B) 0\n",
    "\n",
    "3. In python, 6<<2 is equal to?\n",
    "Ans :- C) 24\n",
    "\n",
    "4. In python, 6&2 will give which of the following as output?\n",
    "Ans:- A) 2\n",
    "\n",
    "5.  In python, 6|2 will give which of the following as output?\n",
    "Ans :- 6\n",
    "\n",
    "6. What does the finally keyword denotes in python?\n",
    "Ans :- C)the finally block will be executed no matter if the try block raises an error or not. \n",
    "\n",
    "\n",
    "7. What does raise keyword is used for in python?\n",
    "Ans :- A) It is used to raise an exception.\n",
    "\n",
    "8. Which of the following is a common use case of yield keyword in python?\n",
    "Ans :- C) in defining a generator\n",
    "\n",
    "## Q9 and Q10 have multiple correct answers. Choose all the correct options to answer your question.\n",
    "\n",
    "9. Which of the following are the valid variable names?\n",
    "Ans :- A) _abc C) abc2\n",
    "\n",
    "10. Which of the following are the keywords in python?\n",
    "Ans :- A) yield B) raise\n",
    "\n",
    "## Q11 to Q15 are programming questions. Answer them in Jupyter Notebook.\n",
    "\n",
    "\n",
    "\n"
   ]
  },
  {
   "cell_type": "code",
   "execution_count": null,
   "metadata": {},
   "outputs": [],
   "source": [
    "# 11. Write a python program to find the factorial of a number.\n",
    "# factorial of non-negative integer n and which is denoted by n!.\n",
    "\n",
    "num = int(input(\"please enter integer number :\"))\n",
    "\n",
    "factorial = 1\n",
    "\n",
    "if num < 0:\n",
    "    print(\"factorial does not exist for negative numbers :\")\n",
    "    \n",
    "elif num == 0:\n",
    "    print(\"the factorial of  0 is 1\")\n",
    "    \n",
    "else:\n",
    "    for i in range(num,0,-1):\n",
    "        factorial = factorial*i\n",
    "    print(\"The factorial of\",num,\"is\",factorial)"
   ]
  },
  {
   "cell_type": "code",
   "execution_count": null,
   "metadata": {},
   "outputs": [],
   "source": [
    "# 12. Write a python program to find whether a number is prime or composite.\n",
    "n = int(input(\"please enter any positive number:\"))\n",
    "\n",
    "if n > 1:\n",
    "    for i in range(2,n):\n",
    "        \n",
    "        if (n%i)==0:\n",
    "            \n",
    "            print(n,\" number is composite\")\n",
    "            break\n",
    "            \n",
    "            \n",
    "    else:\n",
    "        print(n,\" number is prime number\")\n",
    "            \n",
    "            \n",
    "else:\n",
    "    print(n,\" is not a prime number\")"
   ]
  },
  {
   "cell_type": "code",
   "execution_count": null,
   "metadata": {},
   "outputs": [],
   "source": [
    "# 13. Write a python program to check whether a given string is palindrome or not.\n",
    "text = input(\"please Enter string :\")\n",
    "\n",
    "# we need to reverse the enter input\n",
    "\n",
    "rev_text = text[-1::-1]\n",
    "print(rev_text)\n",
    "# let's check wether the enter input is equal to or not \n",
    "\n",
    "if text == rev_text:\n",
    "    print(\"the string is palindrome :\",text)\n",
    "    \n",
    "else:\n",
    "    print(\"the string is not palindrome :\",text)\n"
   ]
  },
  {
   "cell_type": "code",
   "execution_count": null,
   "metadata": {},
   "outputs": [],
   "source": [
    "# 14. Write a Python program to get the third side of right-angled triangle from two given sides\n",
    "\n",
    "a = float(input(\"please enter  the width of a right-angled triangle: \"))\n",
    "b = float(input(\"please enter the height of a right-angled triangle:\"))\n",
    "\n",
    "# import math libraries to get \n",
    "from math import sqrt\n",
    "\n",
    "c = sqrt((a*a) + (b*b))\n",
    "\n",
    "print(\" third side of right-angled triangle:%.2f\"%c)\n"
   ]
  },
  {
   "cell_type": "code",
   "execution_count": null,
   "metadata": {},
   "outputs": [],
   "source": [
    "# 15. Write a python program to print the frequency of each of the characters present in a given string.\n",
    "\n",
    "string = input(\" please enter string : \")\n",
    "d = {}\n",
    "\n",
    "for i in string:\n",
    "    if i in d:\n",
    "        d[i]=d[i]+1\n",
    "        \n",
    "    else:\n",
    "        d[i]=1\n",
    "print(\" print the frequency of each of the characters present in agiven string\",d)\n"
   ]
  },
  {
   "cell_type": "code",
   "execution_count": null,
   "metadata": {},
   "outputs": [],
   "source": []
  },
  {
   "cell_type": "code",
   "execution_count": null,
   "metadata": {},
   "outputs": [],
   "source": [
    "# first make dictionary\n",
    "\n",
    "dic = {1:400,2:300,3:157,4:180,5}"
   ]
  },
  {
   "cell_type": "code",
   "execution_count": null,
   "metadata": {},
   "outputs": [],
   "source": []
  },
  {
   "cell_type": "code",
   "execution_count": null,
   "metadata": {},
   "outputs": [],
   "source": []
  }
 ],
 "metadata": {
  "kernelspec": {
   "display_name": "Python 3",
   "language": "python",
   "name": "python3"
  },
  "language_info": {
   "codemirror_mode": {
    "name": "ipython",
    "version": 3
   },
   "file_extension": ".py",
   "mimetype": "text/x-python",
   "name": "python",
   "nbconvert_exporter": "python",
   "pygments_lexer": "ipython3",
   "version": "3.7.6"
  }
 },
 "nbformat": 4,
 "nbformat_minor": 4
}
