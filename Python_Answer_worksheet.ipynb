{
 "cells": [
  {
   "cell_type": "markdown",
   "metadata": {},
   "source": [
    "# PYTHON - WORKSHEET 2\n",
    "\n",
    "## Answer Keys\n",
    "\n",
    "- Q1 to Q8 have only one correct answer. Choose the correct option to answer your question.\n",
    "\n",
    "Q1. Which of the following is not a core datatype in python?\n",
    "Ans :- B) struct\n",
    "\n",
    "Q2. Which of the following is an invalid variable name in python?\n",
    "Ans :- C) 1_no\n",
    "\n",
    "Q3. Which one of the following is a keyword in python?\n",
    "Ans :- A) in\n",
    "\n",
    "Q4. In which of the following manner are the operators of the same precedence executed in python?\n",
    "Ans :- D) A) Left to Righ\n",
    "\n",
    "Q5. Arrange the following in decreasing order of the precedence when they appear in an expression in python?\n",
    "Ans :- C) iv – iii – ii – i(iv) Parentheses,iii) Exponential,ii) Division,i) Multiplication )\n",
    "\n",
    "Q6. (28//6)**3/3%3 = ?\n",
    "Ans :- C) 0.3333…\n",
    "\n",
    "Q7. Which of the following is not equal to x16 ?\n",
    "Ans :- C) A) x**4**4\n",
    "\n",
    "Q8. a = input(“Enter an integer”). What will be the data type of a?\n",
    "Ans :- A) int\n",
    "\n",
    "## Q9 and Q10 have multiple correct answers. Choose all the correct options to answer your question.\n",
    "\n",
    "Q9. Which of the following statements are correct?\n",
    "ans :- A) Division and multiplication have same precedence in python\n",
    "       B) Python’s operators’ precedence is based on PEDMAS\n",
    "       D) In case of operators’ having same precedence, the one on the left side is executed first\n",
    "       \n",
    "Q10. Which of the following is(are) valid statement(s) in python?\n",
    " ans :- A) abc = 1,000,000\n",
    "        C) a,b,c = 1000, 2000, 3000\n",
    "        \n",
    "        \n",
    " ## Q11 to Q13 are subjective questions, answer them briefly\n",
    " \n",
    " 11. Differentiate between a list, tuple, set and dictionary.\n",
    " \n",
    " Ans:-   A list is a sequence of elements in a specific order. You can access elements with a numerical index, e.g. the_list[3].          The time taken for several operations such as testing if the list contains an element is O(n), i.e. proportional to              the length of the list.\n",
    "\n",
    "         A tuple is basically an immutable list, meaning you can't add, remove, or replace any elements.\n",
    "\n",
    "         A set has no order, but has the advantage over a list that testing if the set contains an element is much faster,                almost regardless of the size of the set. It also has some handy operations such as union and intersection.\n",
    "\n",
    "         A dictionary is a mapping from keys to values where the keys can be all sorts of different objects, in contrast to              lists where the 'keys' can only be numbers. So you can have the_dict = {'abc': 3, 'def': 8} and then the_dict['abc'] is          3. They keys of a dict are much like a set: they have no order and you can test for their existence quickly.\n",
    "         \n",
    "Q12. Are strings mutable in python? Suppose you have a string “I+Love+Python”, write a small code to replace ‘+’\n",
    "     with space in python.\n",
    "Ans :- No, string is not mutable in python.In Python, a string is immutable. You cannot overwrite the values of immutable             objects.\n",
    "\n",
    "      Code:- \n",
    "       \n",
    "       B = \"I+Love+Python\"\n",
    "       \n",
    "       print(B)\n",
    "       \n",
    "       # let's replace '+' Charachter with space\n",
    "       \n",
    "       B.replace('+',' ')\n",
    "       \n",
    "Q13. What does the function ord() do in python? Explain with example. Also, write down the function for getting\n",
    "the datatype of a variable in python.\n",
    "Ans:- Ord() :-  The ord() function returns the number representing the unicode code of a specified character.\n",
    "      Example - value = ord('A')\n",
    "      \n",
    "      type():- We use the type() function to getting  the datatype of a variable in python.\n",
    "      \n",
    "      example :- B = \"I+Love+Python\"\n",
    "                 type(B)\n",
    "                 \n",
    "                 \n",
    "## Q14 and Q15 are programming questions. Answer them in Jupyter Notebook.\n",
    "\n",
    "            \n",
    "\n",
    "      \n",
    "     \n"
   ]
  },
  {
   "cell_type": "code",
   "execution_count": 36,
   "metadata": {},
   "outputs": [
    {
     "name": "stdout",
     "output_type": "stream",
     "text": [
      "I+Love+Python\n"
     ]
    }
   ],
   "source": [
    "B = \"I+Love+Python\"\n",
    "print(B)"
   ]
  },
  {
   "cell_type": "code",
   "execution_count": 38,
   "metadata": {},
   "outputs": [
    {
     "data": {
      "text/plain": [
       "'I Love Python'"
      ]
     },
     "execution_count": 38,
     "metadata": {},
     "output_type": "execute_result"
    }
   ],
   "source": [
    "B.replace('+',' ')"
   ]
  },
  {
   "cell_type": "code",
   "execution_count": 45,
   "metadata": {},
   "outputs": [
    {
     "data": {
      "text/plain": [
       "str"
      ]
     },
     "execution_count": 45,
     "metadata": {},
     "output_type": "execute_result"
    }
   ],
   "source": [
    "type(B)"
   ]
  },
  {
   "cell_type": "code",
   "execution_count": 46,
   "metadata": {},
   "outputs": [
    {
     "name": "stdout",
     "output_type": "stream",
     "text": [
      "Quadratic function : (a * x^2) + b*x + c\n",
      "enter value of a :2.5\n",
      "enter value of b :1.5\n",
      "enter value of c :3\n"
     ]
    }
   ],
   "source": [
    "# Q14.Write a python program to solve a quadratic equation of the form 𝑎𝑥2 + 𝑏𝑥 + 𝑐 = 0. Where a, b and c are to\n",
    "# be taken by user input. Handle the erroneous input, such as ‘a’ should not be equal to 0.\n",
    "\n",
    "print(\"Quadratic function : (a * x^2) + b*x + c\")\n",
    "\n",
    "a = float(input(\"enter value of a :\"))\n",
    "b = float(input(\"enter value of b :\"))\n",
    "c = float(input(\"enter value of c :\"))\n"
   ]
  },
  {
   "cell_type": "code",
   "execution_count": 54,
   "metadata": {},
   "outputs": [
    {
     "name": "stdout",
     "output_type": "stream",
     "text": [
      "The sum is 136\n"
     ]
    }
   ],
   "source": [
    "# Q15. Write a python program to find the sum of first ‘n’ natural numbers without using any loop. Ask user to input\n",
    "# the value of ‘n’.\n",
    "\n",
    "# Sum of natural numbers up to num\n",
    "\n",
    "num = 16\n",
    "\n",
    "if num < 0:\n",
    "    print(\"Enter a positive number\")\n",
    "else:\n",
    "    sum = 0\n",
    "   # use while loop to iterate until zero\n",
    "while(num > 0):\n",
    "        sum += num\n",
    "        num -= 1\n",
    "print(\"The sum is\", sum)"
   ]
  },
  {
   "cell_type": "code",
   "execution_count": null,
   "metadata": {},
   "outputs": [],
   "source": []
  },
  {
   "cell_type": "code",
   "execution_count": null,
   "metadata": {},
   "outputs": [],
   "source": []
  },
  {
   "cell_type": "code",
   "execution_count": null,
   "metadata": {},
   "outputs": [],
   "source": []
  }
 ],
 "metadata": {
  "kernelspec": {
   "display_name": "Python 3",
   "language": "python",
   "name": "python3"
  },
  "language_info": {
   "codemirror_mode": {
    "name": "ipython",
    "version": 3
   },
   "file_extension": ".py",
   "mimetype": "text/x-python",
   "name": "python",
   "nbconvert_exporter": "python",
   "pygments_lexer": "ipython3",
   "version": "3.7.6"
  }
 },
 "nbformat": 4,
 "nbformat_minor": 4
}
