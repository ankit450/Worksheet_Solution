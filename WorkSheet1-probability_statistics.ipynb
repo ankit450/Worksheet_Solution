{
 "cells": [
  {
   "cell_type": "markdown",
   "metadata": {},
   "source": [
    "# WORKSHEET-1 STATISTICS AND PROBABILITY\n",
    "\n",
    "1. A die is thrown 1402 times. The frequencies for the outcomes 1, 2, 3, 4, 5 and 6 are given in the following table:\n",
    "\n",
    "Find the probability of getting 6 as outcome:\n",
    "\n",
    "Ans :- B) 0.135\n",
    "\n",
    "2. Ans :- D) 0.53\n",
    "\n",
    "3. Ans :- C) 0.745\n",
    "\n",
    "4. Ans :- B)0.577\n",
    "\n",
    "5. Ans :- C) 0.6 \n",
    "\n",
    "6. Ans :- A) 0.33\n",
    "\n",
    "7. Ans :- C) 0.33\n",
    "\n",
    "8. Ans :- B) 0.22\n",
    "\n",
    "9. Ans :- \n",
    "\n",
    "10. Ans :-  A) 0.33\n",
    "\n",
    "11. Ans :- C) 0.5\n",
    "\n",
    "12. Ans :- A) 0.166\n",
    "\n",
    "13. Ans :- D) 0.25\n",
    "\n",
    "14. Ans :- D) 0.05\n",
    "\n",
    "15. Ans :- A) 1/3\n"
   ]
  }
 ],
 "metadata": {
  "kernelspec": {
   "display_name": "Python 3",
   "language": "python",
   "name": "python3"
  },
  "language_info": {
   "codemirror_mode": {
    "name": "ipython",
    "version": 3
   },
   "file_extension": ".py",
   "mimetype": "text/x-python",
   "name": "python",
   "nbconvert_exporter": "python",
   "pygments_lexer": "ipython3",
   "version": "3.7.6"
  }
 },
 "nbformat": 4,
 "nbformat_minor": 4
}
